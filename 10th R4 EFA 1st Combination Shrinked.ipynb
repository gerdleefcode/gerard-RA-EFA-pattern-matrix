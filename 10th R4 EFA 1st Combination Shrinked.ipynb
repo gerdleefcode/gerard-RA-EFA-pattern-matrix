{
 "cells": [
  {
   "cell_type": "code",
   "execution_count": 3,
   "id": "a0a53a96",
   "metadata": {},
   "outputs": [
    {
     "name": "stdout",
     "output_type": "stream",
     "text": [
      "Pattern Matrix (Absolute Values < 0.6 suppressed):\n",
      "       Component 1  Component 2  Component 3  Component 4  Component 5\n",
      "R4MT3     0.000000     0.000000     0.000000     0.716822     0.000000\n",
      "R4MT4     0.000000     0.000000     0.000000     0.761897     0.000000\n",
      "R4MT5     0.000000     0.000000     0.000000     0.758289     0.000000\n",
      "R4RA3     0.000000     0.858466     0.000000     0.000000     0.000000\n",
      "R4RA4     0.000000     0.878221     0.000000     0.000000     0.000000\n",
      "R4RA5     0.000000     0.865268     0.000000     0.000000     0.000000\n",
      "R4VA2     0.731590     0.000000     0.000000     0.000000     0.000000\n",
      "R4VA3     0.798452     0.000000     0.000000     0.000000     0.000000\n",
      "R4VA4     0.810102     0.000000     0.000000     0.000000     0.000000\n",
      "R4IA2     0.000000     0.000000     0.000000     0.000000     0.824474\n",
      "R4IA3     0.000000     0.000000     0.000000     0.000000     0.739709\n",
      "R4IA5     0.000000     0.000000     0.000000     0.000000     0.788545\n",
      "R4AA1     0.000000     0.000000     0.741935     0.000000     0.000000\n",
      "R4AA2     0.000000     0.000000     0.833122     0.000000     0.000000\n",
      "R4AA3     0.000000     0.000000     0.798346     0.000000     0.000000\n"
     ]
    },
    {
     "name": "stderr",
     "output_type": "stream",
     "text": [
      "/Users/stageacomeback/anaconda3/lib/python3.11/site-packages/sklearn/utils/deprecation.py:151: FutureWarning: 'force_all_finite' was renamed to 'ensure_all_finite' in 1.6 and will be removed in 1.8.\n",
      "  warnings.warn(\n"
     ]
    }
   ],
   "source": [
    "import pandas as pd\n",
    "import numpy as np\n",
    "from factor_analyzer import FactorAnalyzer\n",
    "from sklearn.preprocessing import StandardScaler\n",
    "# Load the dataset\n",
    "file_path = \"/Users/stageacomeback/Desktop/Gerard Lee/PolyU SPEED RA/Exploratory Factor Analysis/Main Result/10th Trial Data Cleaning Process/10th Shrinked R4V1.csv\"\n",
    "data = pd.read_csv(file_path)\n",
    "# Normalize the data using StandardScaler\n",
    "scaler = StandardScaler()\n",
    "scaled_data = scaler.fit_transform(data)\n",
    "# Perform Factor Analysis\n",
    "fa = FactorAnalyzer(n_factors=5, rotation=\"varimax\", method=\"principal\") #['varimax', 'oblimax', 'quartimax', 'equamax', 'geomin_ort', 'promax', 'oblimin', 'quartimin', 'geomin_obl', None]\n",
    "fa.fit(scaled_data)\n",
    "# Get the factor loadings (Pattern Matrix)\n",
    "pattern_matrix = fa.loadings_\n",
    "# Set absolute values below 0.6 to 0 for clarity\n",
    "pattern_matrix[np.abs(pattern_matrix) < 0.6] = 0\n",
    "# Convert to DataFrame for better readability\n",
    "columns = [\"Component 1\", \"Component 2\", \"Component 3\", \"Component 4\", \"Component 5\"]\n",
    "pattern_df = pd.DataFrame(pattern_matrix, columns=columns, index=data.columns)\n",
    "# Display the Pattern Matrix\n",
    "print(\"Pattern Matrix (Absolute Values < 0.6 suppressed):\")\n",
    "print(pattern_df)"
   ]
  }
 ],
 "metadata": {
  "kernelspec": {
   "display_name": "base",
   "language": "python",
   "name": "python3"
  },
  "language_info": {
   "codemirror_mode": {
    "name": "ipython",
    "version": 3
   },
   "file_extension": ".py",
   "mimetype": "text/x-python",
   "name": "python",
   "nbconvert_exporter": "python",
   "pygments_lexer": "ipython3",
   "version": "3.11.4"
  }
 },
 "nbformat": 4,
 "nbformat_minor": 5
}
