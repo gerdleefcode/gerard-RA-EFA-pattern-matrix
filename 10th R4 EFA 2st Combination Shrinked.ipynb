{
 "cells": [
  {
   "cell_type": "code",
   "execution_count": 49,
   "id": "a0a53a96",
   "metadata": {},
   "outputs": [
    {
     "name": "stdout",
     "output_type": "stream",
     "text": [
      "Pattern Matrix (Absolute Values < 0.6 suppressed):\n",
      "        Component 1  Component 2  Component 3  Component 4  Component 5  \\\n",
      "R4IE1      0.000000     0.000000     0.000000     0.732336     0.000000   \n",
      "R4IE2      0.000000     0.000000     0.000000     0.665549     0.000000   \n",
      "R4IE5      0.000000     0.000000     0.000000     0.719254     0.000000   \n",
      "R4RE1      0.000000     0.000000     0.808968     0.000000     0.000000   \n",
      "R4RE3      0.000000     0.000000     0.785194     0.000000     0.000000   \n",
      "R4RE4      0.000000     0.000000     0.768604     0.000000     0.000000   \n",
      "R4SeE1     0.760940     0.000000     0.000000     0.000000     0.000000   \n",
      "R4SeE3     0.817704     0.000000     0.000000     0.000000     0.000000   \n",
      "R4SeE4     0.758114     0.000000     0.000000     0.000000     0.000000   \n",
      "R4BE2      0.000000     0.000000     0.000000     0.000000     0.751428   \n",
      "R4BE3      0.000000     0.000000     0.000000     0.000000     0.775443   \n",
      "R4BE4      0.000000     0.000000     0.000000     0.000000     0.724427   \n",
      "R4AE1      0.000000     0.000000     0.000000     0.000000     0.000000   \n",
      "R4AE3      0.000000     0.000000     0.000000     0.000000     0.000000   \n",
      "R4AE4      0.000000     0.000000     0.000000     0.000000     0.000000   \n",
      "R4SoE1     0.000000     0.794940     0.000000     0.000000     0.000000   \n",
      "R4SoE2     0.000000     0.792152     0.000000     0.000000     0.000000   \n",
      "R4SoE3     0.000000     0.803487     0.000000     0.000000     0.000000   \n",
      "R4SoE4     0.000000     0.746303     0.000000     0.000000     0.000000   \n",
      "R4SoE5     0.000000     0.816686     0.000000     0.000000     0.000000   \n",
      "\n",
      "        Component 6  \n",
      "R4IE1      0.000000  \n",
      "R4IE2      0.000000  \n",
      "R4IE5      0.000000  \n",
      "R4RE1      0.000000  \n",
      "R4RE3      0.000000  \n",
      "R4RE4      0.000000  \n",
      "R4SeE1     0.000000  \n",
      "R4SeE3     0.000000  \n",
      "R4SeE4     0.000000  \n",
      "R4BE2      0.000000  \n",
      "R4BE3      0.000000  \n",
      "R4BE4      0.000000  \n",
      "R4AE1      0.629495  \n",
      "R4AE3      0.725215  \n",
      "R4AE4      0.700542  \n",
      "R4SoE1     0.000000  \n",
      "R4SoE2     0.000000  \n",
      "R4SoE3     0.000000  \n",
      "R4SoE4     0.000000  \n",
      "R4SoE5     0.000000  \n"
     ]
    },
    {
     "name": "stderr",
     "output_type": "stream",
     "text": [
      "/Users/stageacomeback/anaconda3/lib/python3.11/site-packages/sklearn/utils/deprecation.py:151: FutureWarning: 'force_all_finite' was renamed to 'ensure_all_finite' in 1.6 and will be removed in 1.8.\n",
      "  warnings.warn(\n"
     ]
    }
   ],
   "source": [
    "import pandas as pd\n",
    "import numpy as np\n",
    "from factor_analyzer import FactorAnalyzer\n",
    "from sklearn.preprocessing import StandardScaler\n",
    "# Load the dataset\n",
    "file_path = \"/Users/stageacomeback/Desktop/Gerard Lee/PolyU SPEED RA/Exploratory Factor Analysis/Main Result/10th Trial Data Cleaning Process/10th Shrinked R4V2.csv\"\n",
    "data = pd.read_csv(file_path)\n",
    "# Normalize the data using StandardScaler\n",
    "scaler = StandardScaler()\n",
    "scaled_data = scaler.fit_transform(data)\n",
    "# Perform Factor Analysis\n",
    "fa = FactorAnalyzer(n_factors=6, rotation=\"varimax\", method=\"principal\") #['varimax', 'oblimax', 'quartimax', 'equamax', 'geomin_ort', 'promax', 'oblimin', 'quartimin', 'geomin_obl', None]\n",
    "fa.fit(scaled_data)\n",
    "# Get the factor loadings (Pattern Matrix)\n",
    "pattern_matrix = fa.loadings_\n",
    "# Set absolute values below 0.6 to 0 for clarity\n",
    "pattern_matrix[np.abs(pattern_matrix) < 0.60] = 0\n",
    "# Convert to DataFrame for better readability\n",
    "columns = [\"Component 1\", \"Component 2\", \"Component 3\", \"Component 4\", \"Component 5\", \"Component 6\"]\n",
    "pattern_df = pd.DataFrame(pattern_matrix, columns=columns, index=data.columns)\n",
    "# Display the Pattern Matrix\n",
    "print(\"Pattern Matrix (Absolute Values < 0.6 suppressed):\")\n",
    "print(pattern_df)"
   ]
  }
 ],
 "metadata": {
  "kernelspec": {
   "display_name": "base",
   "language": "python",
   "name": "python3"
  },
  "language_info": {
   "codemirror_mode": {
    "name": "ipython",
    "version": 3
   },
   "file_extension": ".py",
   "mimetype": "text/x-python",
   "name": "python",
   "nbconvert_exporter": "python",
   "pygments_lexer": "ipython3",
   "version": "3.11.4"
  }
 },
 "nbformat": 4,
 "nbformat_minor": 5
}
